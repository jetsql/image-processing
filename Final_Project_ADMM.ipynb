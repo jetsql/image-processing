{
 "cells": [
  {
   "cell_type": "code",
   "execution_count": 1,
   "metadata": {},
   "outputs": [],
   "source": [
    "import scipy.io\n",
    "import numpy as np\n",
    "import tensorflow as tf\n",
    "import scipy.linalg as la\n",
    "from scipy.sparse import csr_matrix, kron, csc_matrix, block_diag\n",
    "\n",
    "from torch import tensor\n",
    "import time\n",
    "from tqdm import tqdm\n",
    "import matplotlib.pyplot as plt\n",
    "from PIL import Image\n",
    "import os"
   ]
  },
  {
   "cell_type": "code",
   "execution_count": 2,
   "metadata": {},
   "outputs": [],
   "source": [
    "mat = scipy.io.loadmat('C:\\\\IOT\\\\ADMM\\\\mask.mat')\n",
    "mask_3d = mat['mask_3D'] #(256, 256, 172)\n",
    "mat2 = scipy.io.loadmat('C:\\\\IOT\\\\ADMM\\\\Ottawa.mat')\n",
    "x3d_ref = mat2['X3D_ref']  #(256, 256, 172)\n",
    "mat3 = scipy.io.loadmat('C:\\\\IOT\\\\ADMM\\\\X3DL.mat')\n",
    "x3d_dl = mat3['X3D_DL'] #(256, 256, 172)\n",
    "x3d = x3d_ref * mask_3d\n",
    "t1 = time.time()\n",
    "# Define parameters \n",
    "N = 10\n",
    "lambda_ = 0.01\n",
    "mu = 0.001"
   ]
  },
  {
   "cell_type": "code",
   "execution_count": 3,
   "metadata": {},
   "outputs": [],
   "source": [
    "# Compute s_dl\n",
    "def compute_basis(x3d, n):\n",
    "    x = np.reshape(x3d,(x3d.shape[0]*x3d.shape[1],x3d.shape[2]), order='F')\n",
    "    xt = np.transpose(x)\n",
    "    m = xt.shape[0]\n",
    "    u = xt\n",
    "    c = u @ np.transpose(u)\n",
    "    D, V = np.linalg.eig(c)\n",
    "    ind = np.argsort(D)\n",
    "    D = D[ind]\n",
    "    D = np.diag(D)\n",
    "    V = V[:,ind]\n",
    "    E = V[:,m-n:]\n",
    "    return E\n",
    "\n",
    "def compute_s_dl(x3d):\n",
    "    row, colum, channel = x3d.shape\n",
    "    rsize = row * colum\n",
    "    x2d_dl = np.reshape(x3d, (172, rsize), order='F')\n",
    "    e_dl = compute_basis(x3d_dl, N)\n",
    "    s_dl = np.transpose(e_dl) @ x2d_dl\n",
    "    return s_dl, e_dl"
   ]
  },
  {
   "cell_type": "code",
   "execution_count": 4,
   "metadata": {},
   "outputs": [],
   "source": [
    "s_dl, e_dl = compute_s_dl(x3d)\n",
    "# ADMM\n",
    "row, colum, channel = x3d.shape\n",
    "rsize = row * colum\n",
    "empty = np.zeros((channel, channel, rsize))\n",
    "truerow, truecol, truechannel = np.where(mask_3d == 1)\n",
    "empty[truechannel, truechannel, (truerow + row * truecol)] = 1\n",
    "rp_tensor = np.einsum('kij, lk -> lij', tensor(empty), np.transpose(e_dl))  # (10, 172, 65536)\n",
    "rrt_tensor = np.einsum('kij, li -> klj', tensor(rp_tensor), np.transpose(e_dl)) #(10, 10, 65536)\n",
    "x2d = np.transpose(np.reshape(x3d,(65536, channel), order='F')) # (172, 65536)\n",
    "rpy = np.zeros((10, rsize)) # (10, 65536)\n",
    "for i in range(rsize):\n",
    "    rpy[:,i] = rp_tensor[:,:,i] @ x2d[:,i]\n",
    "rpy = np.reshape(rpy,(655360,1), order='F') \n"
   ]
  },
  {
   "cell_type": "code",
   "execution_count": 5,
   "metadata": {},
   "outputs": [
    {
     "name": "stdout",
     "output_type": "stream",
     "text": [
      "(65536, 10, 10)\n",
      "(655360, 655360)\n"
     ]
    }
   ],
   "source": [
    "RRtrps_per = np.transpose(rrt_tensor,(2,0,1)) # 65536 10 10\n",
    "I = (mu/2) * np.eye(N, order='F')\n",
    "S_left = np.zeros(RRtrps_per.shape)\n",
    "for i in range(RRtrps_per.shape[0]):\n",
    "    S_left[i,:,:] = np.linalg.inv(RRtrps_per[i,:,:] + I)\n",
    "print(S_left.shape)\n",
    "S_left = [csc_matrix(S_left[n,:,:]) for n in range(S_left.shape[0])]\n",
    "S_left = block_diag(S_left)\n",
    "print(S_left.shape)\n",
    "S2D = np.zeros((N, rsize))\n",
    "D = np.zeros((N,rsize))\n"
   ]
  },
  {
   "cell_type": "code",
   "execution_count": 6,
   "metadata": {},
   "outputs": [
    {
     "name": "stderr",
     "output_type": "stream",
     "text": [
      "100%|██████████████████████████████████████████████████████████████████████████████████| 50/50 [00:02<00:00, 23.41it/s]\n"
     ]
    },
    {
     "name": "stdout",
     "output_type": "stream",
     "text": [
      "3198.5085022449493\n"
     ]
    }
   ],
   "source": [
    "for i in tqdm(range(0, 50)):\n",
    "    Z = (1/(mu+lambda_))*(lambda_*s_dl+mu*(S2D-D))\n",
    "    DELTA = (Z+D)\n",
    "    delta = np.reshape(DELTA,(-1,1), order=\"F\")\n",
    "    s_right = rpy +  (mu/2)*delta\n",
    "    s = S_left @ s_right\n",
    "    S2D = np.reshape(s,(N,row*colum),order=\"F\")\n",
    "    D = D - S2D + Z \n",
    "X2D_rec = e_dl @ S2D  \n",
    "X3D_rec = np.reshape(np.transpose(X2D_rec),(row,colum,channel),order=\"F\")\n",
    "scipy.io.savemat('C:\\\\IOT\\\\ADMM\\\\output2.mat', {'output2':X3D_rec})\n",
    "t2 = time.time()\n",
    "print(t2 - t1)"
   ]
  },
  {
   "cell_type": "code",
   "execution_count": null,
   "metadata": {},
   "outputs": [],
   "source": []
  }
 ],
 "metadata": {
  "kernelspec": {
   "display_name": "Python 3",
   "language": "python",
   "name": "python3"
  },
  "language_info": {
   "codemirror_mode": {
    "name": "ipython",
    "version": 3
   },
   "file_extension": ".py",
   "mimetype": "text/x-python",
   "name": "python",
   "nbconvert_exporter": "python",
   "pygments_lexer": "ipython3",
   "version": "3.6.12"
  }
 },
 "nbformat": 4,
 "nbformat_minor": 2
}
